{
 "cells": [
  {
   "cell_type": "markdown",
   "metadata": {},
   "source": [
    "# Length Matters:  The Value of a Longer Chain \n",
    "Derives figures and shows equivalence between two known measures. "
   ]
  },
  {
   "cell_type": "code",
   "execution_count": 1,
   "metadata": {},
   "outputs": [],
   "source": [
    "import matplotlib.pyplot as plt\n",
    "import numpy as np"
   ]
  },
  {
   "cell_type": "code",
   "execution_count": 8,
   "metadata": {},
   "outputs": [],
   "source": [
    "from openpyxl import load_workbook\n",
    "import pandas as pd\n",
    "#zero entries in X convert to 1 so that we can invert the diagonal matrix X\n",
    "wb = load_workbook(filename='D:\\CloudStation\\Data\\WIOD\\Cwiot02.xlsx', \n",
    "                   read_only=True)\n",
    "ws = wb['WIOT_2002']\n",
    "\n",
    "#helper function to extract cells from sheet\n",
    "def excel_extract(sheet, start_cell, end_cell):\n",
    "    data_rows = []\n",
    "    for row in ws[start_cell:end_cell]:\n",
    "        data_cols = []\n",
    "        for cell in row:\n",
    "            data_cols.append(cell.value)\n",
    "        data_rows.append(data_cols)\n",
    "    df = pd.DataFrame(data_rows)\n",
    "    return df\n",
    "\n",
    "\n",
    "def VC_Length(Z,X):\n",
    "    '''\n",
    "    inputs Z and X matrix \n",
    "    outputs L = Length, A= A coefficient matrix, B = Inverse matrix\n",
    "    '''\n",
    "    shape=Z.shape[0]\n",
    "    I = np.identity(shape)\n",
    "    #print(\"Now Calculate A matrix\")\n",
    "    hat_X = np.diagflat(X)\n",
    "    A = Z*np.linalg.inv(hat_X)\n",
    "    #print(\"now calculate Inverse Matrix (I-A)^-1\")\n",
    "    B = np.linalg.inv(I-A)\n",
    "    #print(\"now sum along the column to calculate the upstream length\")\n",
    "    L = np.sum(B, axis=0)\n",
    "\n",
    "    return L , A , B\n"
   ]
  },
  {
   "cell_type": "markdown",
   "metadata": {},
   "source": [
    "## Show Wang and Antras are numerically equivalent\n",
    "The calculations in Wang make large steps for those who are not familiar with the calculation and the notation is different between Wang and Antras.  Thus I felt it necessary to show equivalence numerically in this example, which ends in a plot of a 45 degree line, showing equivalence.  \n",
    "\n",
    "Variable definitions and descriptions can be found in the paper \"Length Matters:  The Value of a Longer Value Chain\""
   ]
  },
  {
   "cell_type": "code",
   "execution_count": 9,
   "metadata": {},
   "outputs": [],
   "source": [
    "# Transform into dataframe\n",
    "X = np.matrix(excel_extract(ws, 'BKG7', 'BKG1441'))\n",
    "Z = np.matrix(excel_extract(ws, 'E7', 'BCI1441'))\n",
    "V = np.matrix(excel_extract(ws, 'E1447', 'BCI1447'))\n",
    "Xi = np.matrix(excel_extract(ws, 'E1449', 'BCI1449'))"
   ]
  },
  {
   "cell_type": "code",
   "execution_count": 10,
   "metadata": {},
   "outputs": [
    {
     "name": "stdout",
     "output_type": "stream",
     "text": [
      "Now Calculate B matrix B = X^-1 Z \n",
      "now calculate Ghosh Inverse Matrix W = (I-A)^-1\n",
      "Now Calculate A matrix A = Z X^-1  \n",
      "now calculate Leontief Inverse Matrix L = (I-A)^-1\n",
      "now sum up the column to calculate the upstream length\n",
      "[[1.58415842]\n",
      " [1.38613861]\n",
      " [1.75346535]]\n",
      "Now calculate it according to Antras and Chor: L = VaWWX^-1\n"
     ]
    }
   ],
   "source": [
    "shape=Z.shape[0]\n",
    "I = np.identity(shape)\n",
    "print(\"Now Calculate B matrix B = X^-1 Z \")\n",
    "hat_Xi = np.diagflat(np.transpose(Xi))\n",
    "B = np.linalg.inv(hat_Xi)*Z\n",
    "#print(B)\n",
    "\n",
    "print(\"now calculate Ghosh Inverse Matrix W = (I-A)^-1\")\n",
    "W = np.linalg.inv(I-B)\n",
    "#print(W)\n",
    "\n",
    "print(\"Now Calculate A matrix A = Z X^-1  \")\n",
    "hat_X = np.diagflat(X)\n",
    "A = Z*np.linalg.inv(hat_X)\n",
    "#print(A)\n",
    "\n",
    "print(\"now calculate Leontief Inverse Matrix L = (I-A)^-1\")\n",
    "L = np.linalg.inv(I-A)\n",
    "#print(L)\n",
    "\n",
    "print(\"now sum up the column to calculate the upstream length\")\n",
    "Zhi = np.sum(L, axis=0)\n",
    "print(Upstream_Length_Zhi)\n",
    "\n",
    "one = np.reshape(np.ones(shape), [1,shape])\n",
    "print(\"Now calculate it according to Antras and Chor: L = VaWWX^-1\")\n",
    "Antras = Xi*W*np.linalg.inv(hat_Xi)"
   ]
  },
  {
   "cell_type": "code",
   "execution_count": 29,
   "metadata": {},
   "outputs": [
    {
     "name": "stdout",
     "output_type": "stream",
     "text": [
      "(1, 1435)\n",
      "(1435,)\n"
     ]
    }
   ],
   "source": [
    "print(Antras.shape)\n",
    "X = np.array(np.reshape(X, [1435,]))\n",
    "Xi = np.array(np.reshape(Xi, [1435,]))\n",
    "print(Xi.shape)"
   ]
  },
  {
   "cell_type": "code",
   "execution_count": 12,
   "metadata": {},
   "outputs": [
    {
     "data": {
      "text/plain": [
       "(1, 1435)"
      ]
     },
     "execution_count": 12,
     "metadata": {},
     "output_type": "execute_result"
    }
   ],
   "source": []
  },
  {
   "cell_type": "code",
   "execution_count": 30,
   "metadata": {},
   "outputs": [
    {
     "data": {
      "text/plain": [
       "<matplotlib.collections.PathCollection at 0x16d192a05c0>"
      ]
     },
     "execution_count": 30,
     "metadata": {},
     "output_type": "execute_result"
    },
    {
     "data": {
      "image/png": "[encoded data removed]",
      "text/plain": [
       "<Figure size 432x288 with 1 Axes>"
      ]
     },
     "metadata": {
      "needs_background": "light"
     },
     "output_type": "display_data"
    }
   ],
   "source": [
    "#\n",
    "Zhi2 = np.sum(L, axis=0)\n",
    "Antras = np.array(np.reshape(Antras, [1435,]))\n",
    "Zhi = np.array(np.reshape(Zhi, [1435,]))\n",
    "Zhi2 = np.array(np.reshape(Zhi2, [1435,]))\n",
    "Zhi.shape\n",
    "plt.scatter(Zhi2,Antras)\n",
    "#plt.scatter(X, Xi)"
   ]
  },
  {
   "cell_type": "markdown",
   "metadata": {},
   "source": [
    "## plot matrices for different countries"
   ]
  },
  {
   "cell_type": "code",
   "execution_count": 66,
   "metadata": {},
   "outputs": [
    {
     "data": {
      "image/png": "[encoded data removed]",
      "text/plain": [
       "<Figure size 432x288 with 2 Axes>"
      ]
     },
     "metadata": {
      "needs_background": "light"
     },
     "output_type": "display_data"
    },
    {
     "name": "stdout",
     "output_type": "stream",
     "text": [
      "Number of Industries in China =  30\n"
     ]
    }
   ],
   "source": [
    "'''\n",
    "Get matrix A for China, Canada and Ireland for comparison, note length is total length.  I use domestic length.  The calculation\n",
    "is included here for illustrative purposes only. \n",
    "'''\n",
    "R = VC_Length(Z,X)\n",
    "\n",
    "tl_chn, a_chn, b_chn = R[0][210:240, 210:240], R[1][210:240, 210:240], R[2][210:240, 210:240]\n",
    "z_chn = Z[210:240, 210:240]\n",
    "\n",
    "tl,can, a_can, b_can  =R[0][180:210, 180:210], R[1][180:210, 180:210], R[2][180:210, 180:210]\n",
    "z_can = Z[180:210, 180:210]\n",
    "\n",
    "a_irl = R[1][700:730, 700:730]\n",
    "z = Z[204:234, 204:234]\n",
    "\n",
    "\n",
    "print(\"Number of Industries in China = \", a_chn.shape[1])"
   ]
  },
  {
   "cell_type": "code",
   "execution_count": 162,
   "metadata": {},
   "outputs": [],
   "source": [
    "#Get Domestic Value Chain Length from Zhi, which eliminated double counting\n",
    "Length = pd.read_csv('D:\\CloudStation\\Data\\RIGVC\\GVC.csv', delimiter='\\t')\n",
    "l_chn= Length.loc[(data['Country']=='CHN') & (data['Year']==2002)]['PLv_D'][0:30].values\n",
    "l_can= Length.loc[(data['Country']=='CAN') & (data['Year']==2002)]['PLv_D'][0:30].values\n",
    "l_irl= Length.loc[(data['Country']=='IRL') & (data['Year']==2002)]['PLv_D'][0:30].values"
   ]
  },
  {
   "cell_type": "code",
   "execution_count": 164,
   "metadata": {},
   "outputs": [
    {
     "data": {
      "image/png": "[encoded data removed]",
      "text/plain": [
       "<Figure size 432x288 with 3 Axes>"
      ]
     },
     "metadata": {
      "needs_background": "light"
     },
     "output_type": "display_data"
    },
    {
     "data": {
      "image/png": "[encoded data removed]",
      "text/plain": [
       "<Figure size 432x288 with 2 Axes>"
      ]
     },
     "metadata": {
      "needs_background": "light"
     },
     "output_type": "display_data"
    }
   ],
   "source": [
    "from mpl_toolkits.axes_grid1 import make_axes_locatable\n",
    "\n",
    "fig, (ax11, ax12) = plt.subplots(nrows=1, ncols=2)\n",
    "fig.suptitle('Input Coefficients: Matrix A')\n",
    "ax11.set_title('China')\n",
    "im1 = ax11.imshow(a_chn, cmap='hot', interpolation='nearest', vmin=0, vmax=.3)\n",
    "ax12.set_title('Canada')\n",
    "im2 = ax12.imshow(a_can, cmap='hot', interpolation='nearest', vmin=0, vmax=.3)\n",
    "divider1 = make_axes_locatable(ax12)\n",
    "cax1 = divider1.append_axes(\"right\", size=\"5%\", pad=0.05)\n",
    "cbar1 = plt.colorbar(im1, cax=cax1)\n",
    "plt.show()\n",
    "\n",
    "fig, (ax11, ax12) = plt.subplots(nrows=1, ncols=2, sharey=True)\n",
    "fig.suptitle('Value Chain Length by Industry')\n",
    "ax11.set_title('China')\n",
    "im1 = ax11.scatter(industries, l_chn)\n",
    "ax12.set_title('Canada')\n",
    "im1 = ax12.scatter(industries, l_can)\n",
    "plt.show()"
   ]
  }
 ],
 "metadata": {
  "kernelspec": {
   "display_name": "Python 3",
   "language": "python",
   "name": "python3"
  },
  "language_info": {
   "codemirror_mode": {
    "name": "ipython",
    "version": 3
   },
   "file_extension": ".py",
   "mimetype": "text/x-python",
   "name": "python",
   "nbconvert_exporter": "python",
   "pygments_lexer": "ipython3",
   "version": "3.7.0"
  }
 },
 "nbformat": 4,
 "nbformat_minor": 2
}
